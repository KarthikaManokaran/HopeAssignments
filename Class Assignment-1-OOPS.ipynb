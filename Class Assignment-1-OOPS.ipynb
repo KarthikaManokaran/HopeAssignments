{
 "cells": [
  {
   "cell_type": "code",
   "execution_count": null,
   "id": "8d9282b8",
   "metadata": {},
   "outputs": [],
   "source": [
    "#create a class and function and list out the items in the list"
   ]
  },
  {
   "cell_type": "code",
   "execution_count": 1,
   "id": "08b10270",
   "metadata": {},
   "outputs": [],
   "source": [
    "class SubfieldsInAI():\n",
    "    def SubFields():\n",
    "        list =['Machine Learning','Neural Network','Vision','Robotics','Speech Processing','Natural Language Processing']\n",
    "        print(\"Sub_fields in AI are:\")\n",
    "        for subfields in list:\n",
    "            print(subfields)\n",
    "    "
   ]
  },
  {
   "cell_type": "code",
   "execution_count": 2,
   "id": "d9a961db",
   "metadata": {},
   "outputs": [
    {
     "name": "stdout",
     "output_type": "stream",
     "text": [
      "Sub_fields in AI are:\n",
      "Machine Learning\n",
      "Neural Network\n",
      "Vision\n",
      "Robotics\n",
      "Speech Processing\n",
      "Natural Language Processing\n"
     ]
    }
   ],
   "source": [
    "SubfieldsInAI.SubFields()"
   ]
  },
  {
   "cell_type": "code",
   "execution_count": 3,
   "id": "188d3c27",
   "metadata": {},
   "outputs": [],
   "source": [
    "#create a class and function that check whether the given number is Odd or Even"
   ]
  },
  {
   "cell_type": "code",
   "execution_count": 4,
   "id": "99519ea3",
   "metadata": {},
   "outputs": [],
   "source": [
    "class OddEven():\n",
    "    def OddEven():\n",
    "        Num = int(input(\"Enter a Number:\"))\n",
    "        if(Num%2)==0:\n",
    "            print(Num,\"is Even Number\")\n",
    "        else:\n",
    "            print(Num,\"is Odd Number\")"
   ]
  },
  {
   "cell_type": "code",
   "execution_count": 5,
   "id": "6026ea86",
   "metadata": {},
   "outputs": [
    {
     "name": "stdout",
     "output_type": "stream",
     "text": [
      "Enter a Number:52452\n",
      "52452 is Even Number\n"
     ]
    }
   ],
   "source": [
    "OddEven.OddEven()"
   ]
  },
  {
   "cell_type": "markdown",
   "id": "5a26ef38",
   "metadata": {},
   "source": [
    "create a class and function that tells the eligibility of marraiage for male and female according to age limit \n",
    "like 21 for male,and 18 for female"
   ]
  },
  {
   "cell_type": "code",
   "execution_count": 6,
   "id": "3ba6358e",
   "metadata": {},
   "outputs": [],
   "source": [
    "class EligibilityForMarriage():\n",
    "    def Eligible():\n",
    "        gender=input(\"Your Gender:\")\n",
    "        age=int(input(\"Your Age:\"))\n",
    "        if(gender==\"male\"):\n",
    "            if(age<21):\n",
    "                print(\"Not-Eligible\")\n",
    "            else:\n",
    "                print(\"Eligible\")\n",
    "        else:\n",
    "            if(age<18):\n",
    "                print(\"Not-Eligible\")\n",
    "            else:\n",
    "                print(\"Eligible\")"
   ]
  },
  {
   "cell_type": "code",
   "execution_count": 7,
   "id": "31dbd550",
   "metadata": {},
   "outputs": [
    {
     "name": "stdout",
     "output_type": "stream",
     "text": [
      "Your Gender:male\n",
      "Your Age:20\n",
      "Not-Eligible\n"
     ]
    }
   ],
   "source": [
    "EligibilityForMarriage.Eligible()"
   ]
  },
  {
   "cell_type": "code",
   "execution_count": 8,
   "id": "004086ec",
   "metadata": {},
   "outputs": [],
   "source": [
    "#create class and function that calculate the percentage of your 10th mark"
   ]
  },
  {
   "cell_type": "code",
   "execution_count": 9,
   "id": "012f551a",
   "metadata": {},
   "outputs": [],
   "source": [
    "class FindPercent():\n",
    "    def percentage():\n",
    "        sub1=int(input(\"Subject1=\"))\n",
    "        sub2=int(input(\"Subject2=\"))\n",
    "        sub3=int(input(\"Subject3=\"))\n",
    "        sub4=int(input(\"Subject4=\"))\n",
    "        sub5=int(input(\"Subject5=\"))\n",
    "        Total=(sub1+sub2+sub3+sub4+sub5)\n",
    "        Percentage=Total/5\n",
    "        print(\"Total:\",Total)\n",
    "        print(\"Percentage:\",Percentage)"
   ]
  },
  {
   "cell_type": "code",
   "execution_count": 10,
   "id": "1ad19c41",
   "metadata": {},
   "outputs": [
    {
     "name": "stdout",
     "output_type": "stream",
     "text": [
      "Subject1=98\n",
      "Subject2=87\n",
      "Subject3=95\n",
      "Subject4=95\n",
      "Subject5=93\n",
      "Total: 468\n",
      "Percentage: 93.6\n"
     ]
    }
   ],
   "source": [
    "FindPercent.percentage()"
   ]
  },
  {
   "cell_type": "code",
   "execution_count": 12,
   "id": "53e98d81",
   "metadata": {},
   "outputs": [],
   "source": [
    "class triangle():\n",
    "    def triangle():\n",
    "        Height=float(input(\"Height:\"))\n",
    "        Breadth=float(input(\"Breadth:\"))\n",
    "        Area_of_triangle=1/2*Height*Breadth\n",
    "        print(\"Area formula:(Height*Breadth)/2\")\n",
    "        print(\"Area of triangle:\",Area_of_triangle)\n",
    "        Height1=float(input(\"Height1:\"))\n",
    "        Height2=float(input(\"Height2:\"))\n",
    "        Breadth1=float(input(\"Breadth1:\"))\n",
    "        Perimeter_of_triangle=Height1+Height2+Breadth1\n",
    "        print(\"Perimeter formula:Height1+Height2+Breadth1\")\n",
    "        print(\"Perimeter of triangle:\",Perimeter_of_triangle)\n",
    "    "
   ]
  },
  {
   "cell_type": "code",
   "execution_count": 13,
   "id": "0abe887b",
   "metadata": {},
   "outputs": [
    {
     "name": "stdout",
     "output_type": "stream",
     "text": [
      "Height:32\n",
      "Breadth:34\n",
      "Area formula:(Height*Breadth)/2\n",
      "Area of triangle: 544.0\n",
      "Height1:2\n",
      "Height2:4\n",
      "Breadth1:4\n",
      "Perimeter formula:Height1+Height2+Breadth1\n",
      "Perimeter of triangle: 10.0\n"
     ]
    }
   ],
   "source": [
    "triangle.triangle()"
   ]
  },
  {
   "cell_type": "code",
   "execution_count": null,
   "id": "b1d26451",
   "metadata": {},
   "outputs": [],
   "source": []
  }
 ],
 "metadata": {
  "kernelspec": {
   "display_name": "Python 3 (ipykernel)",
   "language": "python",
   "name": "python3"
  },
  "language_info": {
   "codemirror_mode": {
    "name": "ipython",
    "version": 3
   },
   "file_extension": ".py",
   "mimetype": "text/x-python",
   "name": "python",
   "nbconvert_exporter": "python",
   "pygments_lexer": "ipython3",
   "version": "3.11.5"
  }
 },
 "nbformat": 4,
 "nbformat_minor": 5
}
