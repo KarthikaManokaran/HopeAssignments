{
 "cells": [
  {
   "cell_type": "code",
   "execution_count": 1,
   "id": "e348878a",
   "metadata": {},
   "outputs": [],
   "source": [
    "#create function"
   ]
  },
  {
   "cell_type": "code",
   "execution_count": 29,
   "id": "f0dea663",
   "metadata": {},
   "outputs": [],
   "source": [
    "def SubFields():\n",
    "    print(\"Sub_fields in AI are:\\n\"\n",
    "            'Machine Learning\\n'\n",
    "            'Neural Network\\n'\n",
    "            'Vision\\n''Robotics\\n'\n",
    "            'Speech Processing\\n'\n",
    "            'Natural Language Processing')\n"
   ]
  },
  {
   "cell_type": "code",
   "execution_count": 30,
   "id": "ec5c18e6",
   "metadata": {},
   "outputs": [
    {
     "name": "stdout",
     "output_type": "stream",
     "text": [
      "Sub_fields in AI are:\n",
      "Machine Learning\n",
      "Neural Network\n",
      "Vision\n",
      "Robotics\n",
      "Speech Processing\n",
      "Natural Language Processing\n"
     ]
    }
   ],
   "source": [
    "SubFields()"
   ]
  },
  {
   "cell_type": "code",
   "execution_count": 32,
   "id": "a2339e84",
   "metadata": {},
   "outputs": [],
   "source": [
    "def OddEven():\n",
    "    Num = int(input(\"Enter a Number:\"))\n",
    "    if(Num%2)==0:\n",
    "        print(Num,\"is Even Number\")\n",
    "    else:\n",
    "        print(Num,\"is Odd Number\")"
   ]
  },
  {
   "cell_type": "code",
   "execution_count": 33,
   "id": "baf5f666",
   "metadata": {},
   "outputs": [
    {
     "name": "stdout",
     "output_type": "stream",
     "text": [
      "Enter a Number:4\n",
      "4 is Even Number\n"
     ]
    }
   ],
   "source": [
    "OddEven()"
   ]
  },
  {
   "cell_type": "code",
   "execution_count": 3,
   "id": "07d0e8f7",
   "metadata": {},
   "outputs": [],
   "source": [
    "def Eligible():\n",
    "    gender=input(\"Your Gender:\")\n",
    "    age=int(input(\"Your Age:\"))\n",
    "    if(gender==\"male\"):\n",
    "        if(age<21):\n",
    "            print(\"Not-Eligible\")\n",
    "        else:\n",
    "            print(\"Eligible\")\n",
    "    else:\n",
    "        if(age<18):\n",
    "            print(\"Not-Eligible\")\n",
    "        else:\n",
    "            print(\"Eligible\")\n",
    "        "
   ]
  },
  {
   "cell_type": "code",
   "execution_count": 6,
   "id": "99ecba0a",
   "metadata": {},
   "outputs": [
    {
     "name": "stdout",
     "output_type": "stream",
     "text": [
      "Your Gender:male\n",
      "Your Age:18\n",
      "Not-Eligible\n"
     ]
    }
   ],
   "source": [
    "Eligible()"
   ]
  },
  {
   "cell_type": "code",
   "execution_count": 7,
   "id": "4826df66",
   "metadata": {},
   "outputs": [],
   "source": [
    "def percentage():\n",
    "    sub1=int(input(\"Subject1=\"))\n",
    "    sub2=int(input(\"Subject2=\"))\n",
    "    sub3=int(input(\"Subject3=\"))\n",
    "    sub4=int(input(\"Subject4=\"))\n",
    "    sub5=int(input(\"Subject5=\"))\n",
    "    Total=(sub1+sub2+sub3+sub4+sub5)\n",
    "    Percentage=Total/5\n",
    "    print(\"Total:\",Total)\n",
    "    print(\"Percentage:\",Percentage)\n",
    "    \n",
    "    "
   ]
  },
  {
   "cell_type": "code",
   "execution_count": 8,
   "id": "52dbfe5f",
   "metadata": {},
   "outputs": [
    {
     "name": "stdout",
     "output_type": "stream",
     "text": [
      "Subject1=23\n",
      "Subject2=45\n",
      "Subject3=34\n",
      "Subject4=23\n",
      "Subject5=23\n",
      "Total: 148\n",
      "Percentage: 29.6\n"
     ]
    }
   ],
   "source": [
    "percentage()"
   ]
  },
  {
   "cell_type": "code",
   "execution_count": 10,
   "id": "b3fa7d54",
   "metadata": {},
   "outputs": [],
   "source": [
    "def triangle():\n",
    "    Height=float(input(\"Height:\"))\n",
    "    Breadth=float(input(\"Breadth:\"))\n",
    "    Area_of_triangle=1/2*Height*Breadth\n",
    "    print(\"Area formula:(Height*Breadth)/2\")\n",
    "    print(\"Area of triangle:\",Area_of_triangle)\n",
    "    Height1=float(input(\"Height1:\"))\n",
    "    Height2=float(input(\"Height2:\"))\n",
    "    Breadth1=float(input(\"Breadth1:\"))\n",
    "    Perimeter_of_triangle=Height1+Height2+Breadth1\n",
    "    print(\"Perimeter formula:Height1+Height2+Breadth1\")\n",
    "    print(\"Perimeter of triangle:\",Perimeter_of_triangle)\n",
    "    \n",
    "    \n",
    "    "
   ]
  },
  {
   "cell_type": "code",
   "execution_count": 12,
   "id": "8c8639ae",
   "metadata": {},
   "outputs": [
    {
     "name": "stdout",
     "output_type": "stream",
     "text": [
      "Height:3\n",
      "Breadth:4\n",
      "Area formula:(Height*Breadth)/2\n",
      "Area of triangle: 6.0\n",
      "Height1:3\n",
      "Height2:4\n",
      "Breadth1:45\n",
      "Perimeter formula:Height1+Height2+Breadth1\n",
      "Perimeter of triangle: 52.0\n"
     ]
    }
   ],
   "source": [
    "triangle()"
   ]
  },
  {
   "cell_type": "code",
   "execution_count": null,
   "id": "9e85edd2",
   "metadata": {},
   "outputs": [],
   "source": []
  }
 ],
 "metadata": {
  "kernelspec": {
   "display_name": "Python 3 (ipykernel)",
   "language": "python",
   "name": "python3"
  },
  "language_info": {
   "codemirror_mode": {
    "name": "ipython",
    "version": 3
   },
   "file_extension": ".py",
   "mimetype": "text/x-python",
   "name": "python",
   "nbconvert_exporter": "python",
   "pygments_lexer": "ipython3",
   "version": "3.11.5"
  }
 },
 "nbformat": 4,
 "nbformat_minor": 5
}
