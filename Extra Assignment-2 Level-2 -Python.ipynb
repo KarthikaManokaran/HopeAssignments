{
 "cells": [
  {
   "cell_type": "code",
   "execution_count": null,
   "id": "2eef4c3b",
   "metadata": {},
   "outputs": [],
   "source": [
    "#print 0 to 20 by using range"
   ]
  },
  {
   "cell_type": "code",
   "execution_count": 1,
   "id": "54bd918f",
   "metadata": {},
   "outputs": [
    {
     "name": "stdout",
     "output_type": "stream",
     "text": [
      "0\n",
      "1\n",
      "2\n",
      "3\n",
      "4\n",
      "5\n",
      "6\n",
      "7\n",
      "8\n",
      "9\n",
      "10\n",
      "11\n",
      "12\n",
      "13\n",
      "14\n",
      "15\n",
      "16\n",
      "17\n",
      "18\n",
      "19\n"
     ]
    }
   ],
   "source": [
    "for i in range(0,20):\n",
    "    print(i)"
   ]
  },
  {
   "cell_type": "code",
   "execution_count": null,
   "id": "e3a1f8b2",
   "metadata": {},
   "outputs": [],
   "source": [
    "#print range 10 to 20"
   ]
  },
  {
   "cell_type": "code",
   "execution_count": 2,
   "id": "d2d26a48",
   "metadata": {},
   "outputs": [
    {
     "name": "stdout",
     "output_type": "stream",
     "text": [
      "[10, 11, 12, 13, 14, 15, 16, 17, 18, 19]\n"
     ]
    }
   ],
   "source": [
    "print(list(range(10,20)))"
   ]
  },
  {
   "cell_type": "code",
   "execution_count": 3,
   "id": "e1d5a2fb",
   "metadata": {},
   "outputs": [
    {
     "name": "stdout",
     "output_type": "stream",
     "text": [
      "10 11 12 13 14 15 16 17 18 19\n"
     ]
    }
   ],
   "source": [
    "print(*range(10,20))"
   ]
  },
  {
   "cell_type": "code",
   "execution_count": null,
   "id": "49c07b55",
   "metadata": {},
   "outputs": [],
   "source": [
    "#print number of items in the list by using 'len'"
   ]
  },
  {
   "cell_type": "code",
   "execution_count": 4,
   "id": "a346a05b",
   "metadata": {},
   "outputs": [
    {
     "name": "stdout",
     "output_type": "stream",
     "text": [
      "[10, 20, 14, 55, 43, 87, 76]\n",
      "Number of item in the list: 7\n"
     ]
    }
   ],
   "source": [
    "list= [10,20,14,55,43,87,76]\n",
    "print(list)\n",
    "print(\"Number of item in the list:\",len(list))"
   ]
  },
  {
   "cell_type": "code",
   "execution_count": 5,
   "id": "97462e9a",
   "metadata": {},
   "outputs": [
    {
     "name": "stdout",
     "output_type": "stream",
     "text": [
      "Artificial Intelligence\n",
      "A\n",
      "r\n",
      "t\n",
      "i\n",
      "f\n",
      "i\n",
      "c\n",
      "i\n",
      "a\n",
      "l\n",
      " \n",
      "I\n",
      "n\n",
      "t\n",
      "e\n",
      "l\n",
      "l\n",
      "i\n",
      "g\n",
      "e\n",
      "n\n",
      "c\n",
      "e\n"
     ]
    }
   ],
   "source": [
    "word = input()\n",
    "for letters in word:\n",
    "    print(letters)"
   ]
  },
  {
   "cell_type": "code",
   "execution_count": 7,
   "id": "84139fd3",
   "metadata": {},
   "outputs": [
    {
     "name": "stdout",
     "output_type": "stream",
     "text": [
      "karthika\n",
      "33\n",
      "Engineer\n",
      "-Your Name- karthika\n",
      "-Your Age- 33\n",
      "-Your Profession- Engineer\n"
     ]
    }
   ],
   "source": [
    "Name = input()\n",
    "Age = int(input())\n",
    "Profession = input()\n",
    "print(\"-Your Name-\",Name)\n",
    "print(\"-Your Age-\",Age)\n",
    "print(\"-Your Profession-\",Profession)"
   ]
  },
  {
   "cell_type": "code",
   "execution_count": null,
   "id": "1e18febb",
   "metadata": {},
   "outputs": [],
   "source": [
    "#tuples"
   ]
  },
  {
   "cell_type": "code",
   "execution_count": 8,
   "id": "8e589602",
   "metadata": {},
   "outputs": [
    {
     "name": "stdout",
     "output_type": "stream",
     "text": [
      "(1, 'Welcome', 2, 'Hope')\n"
     ]
    }
   ],
   "source": [
    "tuple = (1 , 'Welcome', 2 ,'Hope')\n",
    "print(tuple)\n"
   ]
  },
  {
   "cell_type": "code",
   "execution_count": 10,
   "id": "aa08c491",
   "metadata": {},
   "outputs": [
    {
     "name": "stdout",
     "output_type": "stream",
     "text": [
      "((0, 1, 2, 3), ('python', 'Hope'))\n"
     ]
    }
   ],
   "source": [
    "tuple1=(0,1,2,3)\n",
    "tuple2=('python','Hope')\n",
    "tuple3=tuple1,tuple2\n",
    "print(tuple3)"
   ]
  },
  {
   "cell_type": "code",
   "execution_count": 11,
   "id": "7ac3f57c",
   "metadata": {},
   "outputs": [],
   "source": [
    "#print odd numbers in the list"
   ]
  },
  {
   "cell_type": "code",
   "execution_count": 14,
   "id": "39a59b2c",
   "metadata": {},
   "outputs": [
    {
     "name": "stdout",
     "output_type": "stream",
     "text": [
      "19 is odd\n",
      "25 is odd\n",
      "1 is odd\n"
     ]
    }
   ],
   "source": [
    "list =[20,10,16,19,25,1,276,188]\n",
    "for temp in list:\n",
    "    if(temp%2==1):\n",
    "        print(temp,\"is odd\")"
   ]
  },
  {
   "cell_type": "code",
   "execution_count": 15,
   "id": "a43a9adf",
   "metadata": {},
   "outputs": [],
   "source": [
    "#print the even numbers in the list"
   ]
  },
  {
   "cell_type": "code",
   "execution_count": 16,
   "id": "ce77caaa",
   "metadata": {},
   "outputs": [
    {
     "name": "stdout",
     "output_type": "stream",
     "text": [
      "20 is Even\n",
      "10 is Even\n",
      "16 is Even\n",
      "276 is Even\n",
      "188 is Even\n"
     ]
    }
   ],
   "source": [
    "list =[20,10,16,19,25,1,276,188]\n",
    "for temp in list:\n",
    "    if(temp%2==0):\n",
    "        print(temp,\"is Even\")"
   ]
  },
  {
   "cell_type": "code",
   "execution_count": null,
   "id": "66a9f7cc",
   "metadata": {},
   "outputs": [],
   "source": []
  }
 ],
 "metadata": {
  "kernelspec": {
   "display_name": "Python 3 (ipykernel)",
   "language": "python",
   "name": "python3"
  },
  "language_info": {
   "codemirror_mode": {
    "name": "ipython",
    "version": 3
   },
   "file_extension": ".py",
   "mimetype": "text/x-python",
   "name": "python",
   "nbconvert_exporter": "python",
   "pygments_lexer": "ipython3",
   "version": "3.11.5"
  }
 },
 "nbformat": 4,
 "nbformat_minor": 5
}
