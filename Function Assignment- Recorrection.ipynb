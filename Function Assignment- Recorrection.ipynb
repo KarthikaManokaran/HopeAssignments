{
 "cells": [
  {
   "cell_type": "code",
   "execution_count": 1,
   "id": "2406987f",
   "metadata": {},
   "outputs": [],
   "source": [
    "#create function"
   ]
  },
  {
   "cell_type": "code",
   "execution_count": 2,
   "id": "f9c7e213",
   "metadata": {},
   "outputs": [],
   "source": [
    "def SubFields():\n",
    "    list =['Machine Learning','Neural Network','Vision','Robotics','Speech Processing','Natural Language Processing']\n",
    "    print(\"Sub_fields in AI are:\")\n",
    "    for subfields in list:\n",
    "        print(subfields)"
   ]
  },
  {
   "cell_type": "code",
   "execution_count": 3,
   "id": "dc5efb42",
   "metadata": {},
   "outputs": [
    {
     "name": "stdout",
     "output_type": "stream",
     "text": [
      "Sub_fields in AI are:\n",
      "Machine Learning\n",
      "Neural Network\n",
      "Vision\n",
      "Robotics\n",
      "Speech Processing\n",
      "Natural Language Processing\n"
     ]
    }
   ],
   "source": [
    "SubFields()"
   ]
  },
  {
   "cell_type": "code",
   "execution_count": null,
   "id": "e3d08a1d",
   "metadata": {},
   "outputs": [],
   "source": []
  }
 ],
 "metadata": {
  "kernelspec": {
   "display_name": "Python 3 (ipykernel)",
   "language": "python",
   "name": "python3"
  },
  "language_info": {
   "codemirror_mode": {
    "name": "ipython",
    "version": 3
   },
   "file_extension": ".py",
   "mimetype": "text/x-python",
   "name": "python",
   "nbconvert_exporter": "python",
   "pygments_lexer": "ipython3",
   "version": "3.11.5"
  }
 },
 "nbformat": 4,
 "nbformat_minor": 5
}
