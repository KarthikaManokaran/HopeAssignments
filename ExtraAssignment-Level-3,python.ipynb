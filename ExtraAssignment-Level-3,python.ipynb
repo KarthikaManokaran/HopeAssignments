{
 "cells": [
  {
   "cell_type": "code",
   "execution_count": 1,
   "id": "e7c14184",
   "metadata": {},
   "outputs": [],
   "source": [
    "#print \"CORRECT\" if i==10"
   ]
  },
  {
   "cell_type": "code",
   "execution_count": 6,
   "id": "43dcb2b1",
   "metadata": {},
   "outputs": [
    {
     "name": "stdout",
     "output_type": "stream",
     "text": [
      "value=10\n",
      "Correct\n"
     ]
    }
   ],
   "source": [
    "i = int(input(\"value=\"))\n",
    "if i==10:\n",
    "    print(\"Correct\")\n",
    "else:\n",
    "    print(\"Please enter correct value\")"
   ]
  },
  {
   "cell_type": "code",
   "execution_count": 5,
   "id": "53d716bf",
   "metadata": {},
   "outputs": [],
   "source": [
    "#check the password using if and else"
   ]
  },
  {
   "cell_type": "code",
   "execution_count": 13,
   "id": "d9ac7fa8",
   "metadata": {},
   "outputs": [
    {
     "name": "stdout",
     "output_type": "stream",
     "text": [
      "Enter the Password :HOPE@123\n",
      "Your Password is Correct\n"
     ]
    }
   ],
   "source": [
    "Password = input(\"Enter the Password :\")\n",
    "if(Password==\"HOPE@123\"):\n",
    "    print(\"Your Password is Correct\")\n",
    "else:\n",
    "    print(\"Please Enter the correct Password\")"
   ]
  },
  {
   "cell_type": "code",
   "execution_count": 14,
   "id": "0db86d44",
   "metadata": {},
   "outputs": [],
   "source": [
    "#Category the people by their age like children,adult,citizen,senior citizen"
   ]
  },
  {
   "cell_type": "code",
   "execution_count": 18,
   "id": "a0b5b783",
   "metadata": {},
   "outputs": [
    {
     "name": "stdout",
     "output_type": "stream",
     "text": [
      "Age :20\n",
      "Adult\n"
     ]
    }
   ],
   "source": [
    "Age = int(input(\"Age :\"))\n",
    "if(Age<18):\n",
    "    print(\"Children\")\n",
    "elif(18<=Age<=45):\n",
    "    print(\"Adult\")\n",
    "elif(46<=Age<=60):\n",
    "    print(\"Citizen\")\n",
    "else:\n",
    "    print(\"Senior Citizen\")"
   ]
  },
  {
   "cell_type": "code",
   "execution_count": 19,
   "id": "7b9f5e07",
   "metadata": {},
   "outputs": [],
   "source": [
    "#find whether given number are positive or negative"
   ]
  },
  {
   "cell_type": "code",
   "execution_count": 22,
   "id": "0520208b",
   "metadata": {},
   "outputs": [
    {
     "name": "stdout",
     "output_type": "stream",
     "text": [
      "Enter Any Number :1\n",
      "Number is Positive\n"
     ]
    }
   ],
   "source": [
    "input_Number = int(input(\"Enter Any Number :\"))\n",
    "if input_Number > 0:\n",
    "    print(\"Number is Positive\")\n",
    "elif input_Number < 0:\n",
    "    print(\"Number is Negative\")\n",
    "else:\n",
    "    print(\"The Number is Zero\")"
   ]
  },
  {
   "cell_type": "code",
   "execution_count": 23,
   "id": "9e6416cf",
   "metadata": {},
   "outputs": [],
   "source": [
    "#check whether the given number is divisible by 5"
   ]
  },
  {
   "cell_type": "code",
   "execution_count": 26,
   "id": "98cd16ad",
   "metadata": {},
   "outputs": [
    {
     "name": "stdout",
     "output_type": "stream",
     "text": [
      "Enter a Number to check :22\n",
      "The Number is No divisible by 5\n"
     ]
    }
   ],
   "source": [
    "Number = int(input(\"Enter a Number to check :\"))\n",
    "if (Number%5)==0:\n",
    "    print(\"Number is divisible by 5\")\n",
    "else:\n",
    "    print(\"The Number is No divisible by 5\")"
   ]
  },
  {
   "cell_type": "code",
   "execution_count": null,
   "id": "c0bab332",
   "metadata": {},
   "outputs": [],
   "source": []
  }
 ],
 "metadata": {
  "kernelspec": {
   "display_name": "Python 3 (ipykernel)",
   "language": "python",
   "name": "python3"
  },
  "language_info": {
   "codemirror_mode": {
    "name": "ipython",
    "version": 3
   },
   "file_extension": ".py",
   "mimetype": "text/x-python",
   "name": "python",
   "nbconvert_exporter": "python",
   "pygments_lexer": "ipython3",
   "version": "3.11.5"
  }
 },
 "nbformat": 4,
 "nbformat_minor": 5
}
