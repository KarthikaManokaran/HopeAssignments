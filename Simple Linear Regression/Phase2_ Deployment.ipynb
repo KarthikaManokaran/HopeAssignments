{
 "cells": [
  {
   "cell_type": "code",
   "execution_count": 1,
   "id": "042758a5",
   "metadata": {},
   "outputs": [],
   "source": [
    "import pickle # import the pickle file"
   ]
  },
  {
   "cell_type": "code",
   "execution_count": 4,
   "id": "689596a8",
   "metadata": {},
   "outputs": [
    {
     "name": "stderr",
     "output_type": "stream",
     "text": [
      "C:\\Users\\USER\\anaconda3\\Lib\\site-packages\\sklearn\\base.py:464: UserWarning: X does not have valid feature names, but LinearRegression was fitted with feature names\n",
      "  warnings.warn(\n"
     ]
    }
   ],
   "source": [
    "loaded_model=pickle.load(open(\"finalized_model_linear.sav\",'rb')) # copy and past the save model from phase 1\n",
    "result = loaded_model.predict([[0]])"
   ]
  },
  {
   "cell_type": "code",
   "execution_count": 5,
   "id": "f1ebd6b3",
   "metadata": {},
   "outputs": [
    {
     "data": {
      "text/plain": [
       "array([[26777.3913412]])"
      ]
     },
     "execution_count": 5,
     "metadata": {},
     "output_type": "execute_result"
    }
   ],
   "source": [
    "result"
   ]
  },
  {
   "cell_type": "code",
   "execution_count": null,
   "id": "e296c220",
   "metadata": {},
   "outputs": [],
   "source": [
    "# zero years of experience is same to  the intercept(orgin) value."
   ]
  }
 ],
 "metadata": {
  "kernelspec": {
   "display_name": "Python 3 (ipykernel)",
   "language": "python",
   "name": "python3"
  },
  "language_info": {
   "codemirror_mode": {
    "name": "ipython",
    "version": 3
   },
   "file_extension": ".py",
   "mimetype": "text/x-python",
   "name": "python",
   "nbconvert_exporter": "python",
   "pygments_lexer": "ipython3",
   "version": "3.11.5"
  }
 },
 "nbformat": 4,
 "nbformat_minor": 5
}
