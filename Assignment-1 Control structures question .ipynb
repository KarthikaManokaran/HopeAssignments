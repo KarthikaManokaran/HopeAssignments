{
 "cells": [
  {
   "cell_type": "code",
   "execution_count": 1,
   "id": "bfa86102",
   "metadata": {},
   "outputs": [
    {
     "name": "stdout",
     "output_type": "stream",
     "text": [
      "Welcome to Assignment-1\n"
     ]
    }
   ],
   "source": [
    "print(\"Welcome to Assignment-1\")"
   ]
  },
  {
   "cell_type": "code",
   "execution_count": 3,
   "id": "3dd5e41e",
   "metadata": {},
   "outputs": [
    {
     "name": "stdout",
     "output_type": "stream",
     "text": [
      "Num1=10\n",
      "Num2=30\n",
      "Add= 40\n"
     ]
    }
   ],
   "source": [
    "Num1=int(input(\"Num1=\"))\n",
    "Num2=int(input(\"Num2=\"))\n",
    "Add=Num1+Num2\n",
    "print(\"Add=\",Add)\n"
   ]
  },
  {
   "cell_type": "markdown",
   "id": "bfd0df78",
   "metadata": {},
   "source": [
    "Body Mass index"
   ]
  },
  {
   "attachments": {},
   "cell_type": "markdown",
   "id": "ceceea85",
   "metadata": {},
   "source": [
    "BMI               Weight Status\n",
    "Below 18.5        Underweight\n",
    "18.5-24.9         Normal weight\n",
    "25.0-29.9         Overweight\n",
    "30.0-34.9         Obesity class I\n",
    "35.0-39.9         Obesity class II\n",
    "Above 40          Obesity class III"
   ]
  },
  {
   "cell_type": "code",
   "execution_count": 11,
   "id": "f9d9da82",
   "metadata": {},
   "outputs": [
    {
     "name": "stdout",
     "output_type": "stream",
     "text": [
      "Enter the BMI index:34\n",
      "Very Overweight/Obisity class 1\n"
     ]
    }
   ],
   "source": [
    "Bmi_value = float(input(\"Enter the BMI index:\"))\n",
    "if(18.5>Bmi_value):\n",
    "    print(\"Underweight\")\n",
    "elif(18.5<=Bmi_value<=24.9):\n",
    "    print(\"Normal\")\n",
    "elif(25<=Bmi_value<=29.9):\n",
    "    print(\"overweight\")\n",
    "elif(30<=Bmi_value<=34.9):\n",
    "    print(\"Very Overweight/Obisity class 1\")\n",
    "elif(35<=Bmi_value<=39.9):\n",
    "    print(\"obisity class 2\")\n",
    "else:\n",
    "    print(\"obisity class 3\")"
   ]
  },
  {
   "cell_type": "code",
   "execution_count": null,
   "id": "cb4be8b8",
   "metadata": {},
   "outputs": [],
   "source": []
  }
 ],
 "metadata": {
  "kernelspec": {
   "display_name": "Python 3 (ipykernel)",
   "language": "python",
   "name": "python3"
  },
  "language_info": {
   "codemirror_mode": {
    "name": "ipython",
    "version": 3
   },
   "file_extension": ".py",
   "mimetype": "text/x-python",
   "name": "python",
   "nbconvert_exporter": "python",
   "pygments_lexer": "ipython3",
   "version": "3.11.5"
  }
 },
 "nbformat": 4,
 "nbformat_minor": 5
}
