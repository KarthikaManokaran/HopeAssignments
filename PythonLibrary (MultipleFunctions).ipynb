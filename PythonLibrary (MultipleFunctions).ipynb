{
 "cells": [
  {
   "cell_type": "code",
   "execution_count": 1,
   "id": "738df9fe",
   "metadata": {},
   "outputs": [],
   "source": [
    "from MultipleFunctions import multiple_functions"
   ]
  },
  {
   "cell_type": "code",
   "execution_count": 2,
   "id": "8de59f05",
   "metadata": {},
   "outputs": [
    {
     "name": "stdout",
     "output_type": "stream",
     "text": [
      "Sub_fields in AI are:\n",
      "Machine Learning\n",
      "Neural Network\n",
      "Vision\n",
      "Robotics\n",
      "Speech Processing\n",
      "Natural Language Processing\n"
     ]
    }
   ],
   "source": [
    "multiple_functions.SubFields()"
   ]
  },
  {
   "cell_type": "code",
   "execution_count": 3,
   "id": "a3a3967e",
   "metadata": {},
   "outputs": [
    {
     "name": "stdout",
     "output_type": "stream",
     "text": [
      "Enter a Number:5\n",
      "5 is Odd Number\n"
     ]
    }
   ],
   "source": [
    "multiple_functions.OddEven()"
   ]
  },
  {
   "cell_type": "code",
   "execution_count": 4,
   "id": "b6895d82",
   "metadata": {},
   "outputs": [
    {
     "name": "stdout",
     "output_type": "stream",
     "text": [
      "Your Gender:female\n",
      "Your Age:17\n",
      "Not-Eligible\n"
     ]
    }
   ],
   "source": [
    "multiple_functions.Eligible()"
   ]
  },
  {
   "cell_type": "code",
   "execution_count": 5,
   "id": "8e613344",
   "metadata": {},
   "outputs": [
    {
     "name": "stdout",
     "output_type": "stream",
     "text": [
      "Subject1=98\n",
      "Subject2=89\n",
      "Subject3=100\n",
      "Subject4=99\n",
      "Subject5=98\n",
      "Total: 484\n",
      "Percentage: 96.8\n"
     ]
    }
   ],
   "source": [
    "multiple_functions.percentage()"
   ]
  },
  {
   "cell_type": "code",
   "execution_count": 6,
   "id": "bd0e7ba7",
   "metadata": {},
   "outputs": [
    {
     "name": "stdout",
     "output_type": "stream",
     "text": [
      "Height:5\n",
      "Breadth:8\n",
      "Area formula:(Height*Breadth)/2\n",
      "Area of triangle: 20.0\n",
      "Height1:3\n",
      "Height2:5\n",
      "Breadth1:7\n",
      "Perimeter formula:Height1+Height2+Breadth1\n",
      "Perimeter of triangle: 15.0\n"
     ]
    }
   ],
   "source": [
    "multiple_functions.triangle()"
   ]
  },
  {
   "cell_type": "code",
   "execution_count": null,
   "id": "72f99d22",
   "metadata": {},
   "outputs": [],
   "source": []
  }
 ],
 "metadata": {
  "kernelspec": {
   "display_name": "Python 3 (ipykernel)",
   "language": "python",
   "name": "python3"
  },
  "language_info": {
   "codemirror_mode": {
    "name": "ipython",
    "version": 3
   },
   "file_extension": ".py",
   "mimetype": "text/x-python",
   "name": "python",
   "nbconvert_exporter": "python",
   "pygments_lexer": "ipython3",
   "version": "3.11.5"
  }
 },
 "nbformat": 4,
 "nbformat_minor": 5
}
